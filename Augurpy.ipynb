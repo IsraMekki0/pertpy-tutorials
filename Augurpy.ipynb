{
 "cells": [
  {
   "cell_type": "markdown",
   "metadata": {},
   "source": [
    "# Augurpy\n",
    "\n",
    "This is a short tutorial demonstrating augurpy, the python implementation of the [Augur R package](https://github.com/neurorestore/Augur) based on Skinnider, M.A., Squair, J.W., Kathe, C. et al. [Cell type prioritization in single-cell data](https://doi.org/10.1038/s41587-020-0605-1). Nat Biotechnol 39, 30–34 (2021). \n",
    "\n",
    "\n",
    "Augurpy aims to rank or prioritize cell types according to the their response to experimental perturbations given high dimensional single-cell sequencing data. The basic idea is that in the space of molecular measurements cells reacting heavily to induced perturbations are more easily seperated into perturbed and unperturbed than cell types with little or no response. This seperability is quantified by measuring how well experimental labels (eg. treatment and control) can be predicted within each cell type. Augurpy trains a machine learning model predicting experimental labels for each cell type in multiple cross validation runs and then prioritizes cell type response according to metric scores measuring the accuracy of the model. For categorical data the area under the curve is the default metric and for numerical data the concordance correlation coefficient is used as a proxy for how accurate the model is which in turn approximates perturbation response. \n",
    "\n",
    "The following tutorial runs through a simple analysis with augurpy using a simulated dataset. This dataset consists of 600 cells, distributed evenly between three populations (cell types A, B, and C). Each of these cell types has approximately half of its cells in one of two conditions, treatment and control. The cell types also have different numbers of genes differentially expressed (DE) in response to the treatment. Cell type A has approximately 5% of genes DE in response to the treatment, while cell type B has 25% of its genes DE and cell type C has 50% of genes DE. "
   ]
  },
  {
   "cell_type": "code",
   "execution_count": 1,
   "metadata": {},
   "outputs": [],
   "source": [
    "import warnings\n",
    "\n",
    "warnings.filterwarnings(\"ignore\")"
   ]
  },
  {
   "cell_type": "code",
   "execution_count": 2,
   "metadata": {},
   "outputs": [
    {
     "data": {
      "text/html": [
       "<pre style=\"white-space:pre;overflow-x:auto;line-height:normal;font-family:Menlo,'DejaVu Sans Mono',consolas,'Courier New',monospace\"><span style=\"color: #800000; text-decoration-color: #800000; font-weight: bold\">Unable to contact PyPI to check for the latest pertpy version. Do you have an internet </span>\n",
       "<span style=\"color: #800000; text-decoration-color: #800000; font-weight: bold\">connection?</span>\n",
       "</pre>\n"
      ],
      "text/plain": [
       "\u001b[1;31mUnable to contact PyPI to check for the latest pertpy version. Do you have an internet \u001b[0m\n",
       "\u001b[1;31mconnection?\u001b[0m\n"
      ]
     },
     "metadata": {},
     "output_type": "display_data"
    }
   ],
   "source": [
    "import scanpy as sc\n",
    "import pertpy as pt"
   ]
  },
  {
   "cell_type": "markdown",
   "metadata": {},
   "source": [
    "First we import the data that we want to work with. This can either be an anndata object, a dataframe containing cell type labels as well as conditions for each cell or data contained in a dataframe with corresponding meta data containing cell type labels and conditions. Here we use scanpy to read the simulated sample anndata set contained in augurpy. Then we load this data into an anndata object adding dummie variables of labels and renaming cell type and label observation columns to `cell_type` and `label`."
   ]
  },
  {
   "cell_type": "code",
   "execution_count": 3,
   "metadata": {},
   "outputs": [],
   "source": [
    "# import data\n",
    "adata = pt.data.sc_sim_augur()\n",
    "\n",
    "\n",
    "loaded_data = pt.tl.augurpy.read_load.load(adata)"
   ]
  },
  {
   "cell_type": "code",
   "execution_count": 4,
   "metadata": {
    "scrolled": false
   },
   "outputs": [
    {
     "data": {
      "text/plain": [
       "AnnData object with n_obs × n_vars = 600 × 15697\n",
       "    obs: 'label', 'cell_type', 'y_'\n",
       "    var: 'name'"
      ]
     },
     "execution_count": 4,
     "metadata": {},
     "output_type": "execute_result"
    }
   ],
   "source": [
    "loaded_data"
   ]
  },
  {
   "cell_type": "markdown",
   "metadata": {},
   "source": [
    "Next we choose the estimator used to measure how predictable the perturbation labels for each cell type in the dataset are. Choose `random_forest_classifier` or `logistic_regression_classifier` for categorical data and `random_forest_regressor` for numerical data. Additional parameters can be added throught the `Params` class."
   ]
  },
  {
   "cell_type": "code",
   "execution_count": 5,
   "metadata": {},
   "outputs": [],
   "source": [
    "random_forest = pt.tl.augurpy.estimator.create_estimator(\"random_forest_classifier\")"
   ]
  },
  {
   "cell_type": "markdown",
   "metadata": {},
   "source": [
    "Then we run augurpy with the function `predict` and look at the results. "
   ]
  },
  {
   "cell_type": "code",
   "execution_count": 6,
   "metadata": {
    "scrolled": false
   },
   "outputs": [
    {
     "data": {
      "application/vnd.jupyter.widget-view+json": {
       "model_id": "4cc92a0491554f478b02794cd0353c3e",
       "version_major": 2,
       "version_minor": 0
      },
      "text/plain": [
       "Output()"
      ]
     },
     "metadata": {},
     "output_type": "display_data"
    },
    {
     "name": "stdout",
     "output_type": "stream",
     "text": [
      "Unable to contact PyPI to check for the latest pertpy version. Do you have an \n",
      "internet connection?\n",
      "Unable to contact PyPI to check for the latest pertpy version. Do you have an \n",
      "internet connection?\n",
      "Unable to contact PyPI to check for the latest pertpy version. Do you have an \n",
      "internet connection?\n",
      "Unable to contact PyPI to check for the latest pertpy version. Do you have an \n",
      "internet connection?\n"
     ]
    },
    {
     "data": {
      "text/html": [
       "<pre style=\"white-space:pre;overflow-x:auto;line-height:normal;font-family:Menlo,'DejaVu Sans Mono',consolas,'Courier New',monospace\"></pre>\n"
      ],
      "text/plain": []
     },
     "metadata": {},
     "output_type": "display_data"
    },
    {
     "data": {
      "text/html": [
       "<pre style=\"white-space:pre;overflow-x:auto;line-height:normal;font-family:Menlo,'DejaVu Sans Mono',consolas,'Courier New',monospace\">\n",
       "</pre>\n"
      ],
      "text/plain": [
       "\n"
      ]
     },
     "metadata": {},
     "output_type": "display_data"
    },
    {
     "name": "stdout",
     "output_type": "stream",
     "text": [
      "                  CellTypeA  CellTypeB  CellTypeC\n",
      "mean_augur_score   0.598299   0.867948   0.918435\n",
      "mean_auc           0.598299   0.867948   0.918435\n",
      "mean_accuracy      0.542674   0.735971   0.783040\n",
      "mean_precision     0.539211   0.782898   0.790340\n",
      "mean_f1            0.419785   0.697024   0.795674\n",
      "mean_recall        0.418889   0.704921   0.855873\n"
     ]
    }
   ],
   "source": [
    "h_adata, h_results = pt.tl.augurpy.evaluate.predict(loaded_data, random_forest, subsample_size=20)\n",
    "\n",
    "print(h_results[\"summary_metrics\"])"
   ]
  },
  {
   "cell_type": "markdown",
   "metadata": {},
   "source": [
    "The default way to select features is based on `scanpy.pp.highly_variable_genes`. The results are shown above. In addition there is also the option of selecting features with `select_variance` activated by setting `select_variance_features=True`, an implementation that is very close to the original R Augur implementation."
   ]
  },
  {
   "cell_type": "code",
   "execution_count": 7,
   "metadata": {
    "scrolled": true
   },
   "outputs": [
    {
     "data": {
      "text/html": [
       "<pre style=\"white-space:pre;overflow-x:auto;line-height:normal;font-family:Menlo,'DejaVu Sans Mono',consolas,'Courier New',monospace\"><span style=\"color: #808000; text-decoration-color: #808000; font-weight: bold\">Set smaller span value in the case of a `segmentation fault` error.</span>\n",
       "</pre>\n"
      ],
      "text/plain": [
       "\u001b[1;33mSet smaller span value in the case of a `segmentation fault` error.\u001b[0m\n"
      ]
     },
     "metadata": {},
     "output_type": "display_data"
    },
    {
     "data": {
      "text/html": [
       "<pre style=\"white-space:pre;overflow-x:auto;line-height:normal;font-family:Menlo,'DejaVu Sans Mono',consolas,'Courier New',monospace\"><span style=\"color: #808000; text-decoration-color: #808000; font-weight: bold\">Set larger span in case of svddc or other near singularities error.</span>\n",
       "</pre>\n"
      ],
      "text/plain": [
       "\u001b[1;33mSet larger span in case of svddc or other near singularities error.\u001b[0m\n"
      ]
     },
     "metadata": {},
     "output_type": "display_data"
    },
    {
     "data": {
      "application/vnd.jupyter.widget-view+json": {
       "model_id": "16adeb67b4164193824c1828280b7974",
       "version_major": 2,
       "version_minor": 0
      },
      "text/plain": [
       "Output()"
      ]
     },
     "metadata": {},
     "output_type": "display_data"
    },
    {
     "data": {
      "text/html": [
       "<pre style=\"white-space:pre;overflow-x:auto;line-height:normal;font-family:Menlo,'DejaVu Sans Mono',consolas,'Courier New',monospace\"></pre>\n"
      ],
      "text/plain": []
     },
     "metadata": {},
     "output_type": "display_data"
    },
    {
     "data": {
      "text/html": [
       "<pre style=\"white-space:pre;overflow-x:auto;line-height:normal;font-family:Menlo,'DejaVu Sans Mono',consolas,'Courier New',monospace\">\n",
       "</pre>\n"
      ],
      "text/plain": [
       "\n"
      ]
     },
     "metadata": {},
     "output_type": "display_data"
    },
    {
     "data": {
      "image/png": "[encoded data removed]",
      "text/plain": [
       "<Figure size 432x288 with 1 Axes>"
      ]
     },
     "metadata": {
      "needs_background": "light"
     },
     "output_type": "display_data"
    }
   ],
   "source": [
    "v_adata, v_results = pt.tl.augurpy.evaluate.predict(\n",
    "    loaded_data, random_forest, subsample_size=20, select_variance_features=True\n",
    ")\n",
    "\n",
    "# to visualize the results\n",
    "lollipop = pt.pl.augurpy.lollipop.lollipop(v_results)"
   ]
  },
  {
   "cell_type": "markdown",
   "metadata": {},
   "source": [
    "Here we visualize the cell ranking and the corresponding augur scores using `select variance` feature selection in a lollipop plot. In this case the ranking it the same but the values themselves differ between the two methods. "
   ]
  },
  {
   "cell_type": "markdown",
   "metadata": {},
   "source": [
    "To compare the two feature selection methods they can be plotted together in a scatterplot. Here you can see that CellTypeB has slightly higher values when using the method `select_highly_variable` compared to `select_variance`, where as CellTypeC has the same augur score."
   ]
  },
  {
   "cell_type": "code",
   "execution_count": 8,
   "metadata": {
    "scrolled": false
   },
   "outputs": [
    {
     "data": {
      "image/png": "[encoded data removed]",
      "text/plain": [
       "<Figure size 432x288 with 1 Axes>"
      ]
     },
     "metadata": {
      "needs_background": "light"
     },
     "output_type": "display_data"
    }
   ],
   "source": [
    "scatter = pt.pl.augurpy.scatterplot.scatterplot(v_results, h_results)"
   ]
  },
  {
   "cell_type": "markdown",
   "metadata": {},
   "source": [
    "The corresponding `mean_augur_score` is also saved in `result_adata.obs` and can be plotted in a UMAP."
   ]
  },
  {
   "cell_type": "code",
   "execution_count": 9,
   "metadata": {},
   "outputs": [
    {
     "data": {
      "image/png": "[encoded data removed]",
      "text/plain": [
       "<Figure size 432x288 with 2 Axes>"
      ]
     },
     "metadata": {
      "needs_background": "light"
     },
     "output_type": "display_data"
    }
   ],
   "source": [
    "sc.pp.neighbors(adata, use_rep=\"X\")\n",
    "sc.tl.umap(adata)\n",
    "sc.pl.umap(adata=v_adata, color=\"augur_score\")"
   ]
  },
  {
   "cell_type": "markdown",
   "metadata": {},
   "source": [
    "### Feature Importances\n",
    "\n",
    "The results object also returns feature importances. In the case of a random forest estimator the feature importances built into sci-kit learn were used as feature importances. For the logistic regression the agresti method was used (as in the R library Augur). This means the mean was subtracted from the coefficient values and then divided by the standard deviation. (See [blog post](https://think-lab.github.io/d/205/))"
   ]
  },
  {
   "cell_type": "code",
   "execution_count": 10,
   "metadata": {
    "scrolled": false
   },
   "outputs": [
    {
     "data": {
      "image/png": "[encoded data removed]",
      "text/plain": [
       "<Figure size 432x288 with 1 Axes>"
      ]
     },
     "metadata": {
      "needs_background": "light"
     },
     "output_type": "display_data"
    }
   ],
   "source": [
    "important_features = pt.pl.augurpy.important_features.important_features(v_results)"
   ]
  },
  {
   "cell_type": "markdown",
   "metadata": {},
   "source": [
    "### Differential Prioritization\n",
    "\n",
    "Augurpy is also able to perform differential prioritization and executes a permutation test to identify cell types with statistically significant differences in AUC between two different rounds of cell type prioritization (eg. response to drugs A and B, compared to untreated control). \n",
    "\n",
    "In the following part, single-cell prefrontal cotrex data from adult mice under cocaine self-administration from  Bhattacherjee A, Djekidel MN, Chen R, Chen W, Tuesta LM, Zhang Y. [Cell type-specific transcriptional programs in mouse prefrontal cortex during adolescence and addiction](https://doi.org/10.1038/s41467-019-12054-3). Nat Commun. 2019 Sep 13. will be used. Adult mice were subject to cocaine self-administration, samples were collected a three time points: Maintance, 48h after cocaine withdrawal and 15 days after cocaine withdrawal.\n",
    "\n",
    "In the following data, `withdraw_15d_Cocaine` and `withdraw_48h_Cocaine` will be compared with respect to the difference to `Maintenance_Cocaine`. Each variation is run once in default mode and once in permute mode."
   ]
  },
  {
   "cell_type": "code",
   "execution_count": 11,
   "metadata": {
    "scrolled": true
   },
   "outputs": [],
   "source": [
    "# Load data and classifier\n",
    "bhattacherjee_adata = pt.data.bhattacherjee()\n",
    "random_forest = pt.tl.augurpy.estimator.create_estimator(\"random_forest_classifier\")"
   ]
  },
  {
   "cell_type": "markdown",
   "metadata": {},
   "source": [
    "For this we first run Augur on `Maintenance_Cocaine` and `withdraw_15d_Cocaine` in `augur_mode`=`default`  and `augur_mode`=`permute` mode. "
   ]
  },
  {
   "cell_type": "code",
   "execution_count": 12,
   "metadata": {},
   "outputs": [
    {
     "data": {
      "text/html": [
       "<pre style=\"white-space:pre;overflow-x:auto;line-height:normal;font-family:Menlo,'DejaVu Sans Mono',consolas,'Courier New',monospace\">Filtering samples with Maintenance_Cocaine and withdraw_15d_Cocaine labels.\n",
       "</pre>\n"
      ],
      "text/plain": [
       "Filtering samples with Maintenance_Cocaine and withdraw_15d_Cocaine labels.\n"
      ]
     },
     "metadata": {},
     "output_type": "display_data"
    },
    {
     "data": {
      "application/vnd.jupyter.widget-view+json": {
       "model_id": "3a7602988cb141d2b812d92ca456c443",
       "version_major": 2,
       "version_minor": 0
      },
      "text/plain": [
       "Output()"
      ]
     },
     "metadata": {},
     "output_type": "display_data"
    },
    {
     "data": {
      "text/html": [
       "<pre style=\"white-space:pre;overflow-x:auto;line-height:normal;font-family:Menlo,'DejaVu Sans Mono',consolas,'Courier New',monospace\"><span style=\"color: #808000; text-decoration-color: #808000; font-weight: bold\">Data not normalized. Normalizing now using scanpy log1p normalize.</span>\n",
       "</pre>\n"
      ],
      "text/plain": [
       "\u001b[1;33mData not normalized. Normalizing now using scanpy log1p normalize.\u001b[0m\n"
      ]
     },
     "metadata": {},
     "output_type": "display_data"
    },
    {
     "data": {
      "text/html": [
       "<pre style=\"white-space:pre;overflow-x:auto;line-height:normal;font-family:Menlo,'DejaVu Sans Mono',consolas,'Courier New',monospace\"><span style=\"color: #808000; text-decoration-color: #808000; font-weight: bold\">Data not normalized. Normalizing now using scanpy log1p normalize.</span>\n",
       "</pre>\n"
      ],
      "text/plain": [
       "\u001b[1;33mData not normalized. Normalizing now using scanpy log1p normalize.\u001b[0m\n"
      ]
     },
     "metadata": {},
     "output_type": "display_data"
    },
    {
     "data": {
      "text/html": [
       "<pre style=\"white-space:pre;overflow-x:auto;line-height:normal;font-family:Menlo,'DejaVu Sans Mono',consolas,'Courier New',monospace\"><span style=\"color: #808000; text-decoration-color: #808000; font-weight: bold\">Data not normalized. Normalizing now using scanpy log1p normalize.</span>\n",
       "</pre>\n"
      ],
      "text/plain": [
       "\u001b[1;33mData not normalized. Normalizing now using scanpy log1p normalize.\u001b[0m\n"
      ]
     },
     "metadata": {},
     "output_type": "display_data"
    },
    {
     "data": {
      "text/html": [
       "<pre style=\"white-space:pre;overflow-x:auto;line-height:normal;font-family:Menlo,'DejaVu Sans Mono',consolas,'Courier New',monospace\"><span style=\"color: #808000; text-decoration-color: #808000; font-weight: bold\">Data not normalized. Normalizing now using scanpy log1p normalize.</span>\n",
       "</pre>\n"
      ],
      "text/plain": [
       "\u001b[1;33mData not normalized. Normalizing now using scanpy log1p normalize.\u001b[0m\n"
      ]
     },
     "metadata": {},
     "output_type": "display_data"
    },
    {
     "data": {
      "text/html": [
       "<pre style=\"white-space:pre;overflow-x:auto;line-height:normal;font-family:Menlo,'DejaVu Sans Mono',consolas,'Courier New',monospace\"><span style=\"color: #808000; text-decoration-color: #808000; font-weight: bold\">Data not normalized. Normalizing now using scanpy log1p normalize.</span>\n",
       "</pre>\n"
      ],
      "text/plain": [
       "\u001b[1;33mData not normalized. Normalizing now using scanpy log1p normalize.\u001b[0m\n"
      ]
     },
     "metadata": {},
     "output_type": "display_data"
    },
    {
     "data": {
      "text/html": [
       "<pre style=\"white-space:pre;overflow-x:auto;line-height:normal;font-family:Menlo,'DejaVu Sans Mono',consolas,'Courier New',monospace\"><span style=\"color: #808000; text-decoration-color: #808000; font-weight: bold\">Data not normalized. Normalizing now using scanpy log1p normalize.</span>\n",
       "</pre>\n"
      ],
      "text/plain": [
       "\u001b[1;33mData not normalized. Normalizing now using scanpy log1p normalize.\u001b[0m\n"
      ]
     },
     "metadata": {},
     "output_type": "display_data"
    },
    {
     "data": {
      "text/html": [
       "<pre style=\"white-space:pre;overflow-x:auto;line-height:normal;font-family:Menlo,'DejaVu Sans Mono',consolas,'Courier New',monospace\"><span style=\"color: #808000; text-decoration-color: #808000; font-weight: bold\">Data not normalized. Normalizing now using scanpy log1p normalize.</span>\n",
       "</pre>\n"
      ],
      "text/plain": [
       "\u001b[1;33mData not normalized. Normalizing now using scanpy log1p normalize.\u001b[0m\n"
      ]
     },
     "metadata": {},
     "output_type": "display_data"
    },
    {
     "data": {
      "text/html": [
       "<pre style=\"white-space:pre;overflow-x:auto;line-height:normal;font-family:Menlo,'DejaVu Sans Mono',consolas,'Courier New',monospace\"><span style=\"color: #808000; text-decoration-color: #808000; font-weight: bold\">Data not normalized. Normalizing now using scanpy log1p normalize.</span>\n",
       "</pre>\n"
      ],
      "text/plain": [
       "\u001b[1;33mData not normalized. Normalizing now using scanpy log1p normalize.\u001b[0m\n"
      ]
     },
     "metadata": {},
     "output_type": "display_data"
    },
    {
     "data": {
      "text/html": [
       "<pre style=\"white-space:pre;overflow-x:auto;line-height:normal;font-family:Menlo,'DejaVu Sans Mono',consolas,'Courier New',monospace\"></pre>\n"
      ],
      "text/plain": []
     },
     "metadata": {},
     "output_type": "display_data"
    },
    {
     "data": {
      "text/html": [
       "<pre style=\"white-space:pre;overflow-x:auto;line-height:normal;font-family:Menlo,'DejaVu Sans Mono',consolas,'Courier New',monospace\">\n",
       "</pre>\n"
      ],
      "text/plain": [
       "\n"
      ]
     },
     "metadata": {},
     "output_type": "display_data"
    },
    {
     "name": "stdout",
     "output_type": "stream",
     "text": [
      "Oligo         0.916088\n",
      "Astro         0.912823\n",
      "Microglia     0.907279\n",
      "OPC           0.900397\n",
      "Endo          0.780590\n",
      "Excitatory    0.688617\n",
      "NF Oligo      0.678730\n",
      "Inhibitory    0.660023\n",
      "Name: mean_augur_score, dtype: float64\n"
     ]
    }
   ],
   "source": [
    "# default\n",
    "bhattacherjee_15 = pt.tl.augurpy.read_load.load(\n",
    "    bhattacherjee_adata, condition_label=\"Maintenance_Cocaine\", treatment_label=\"withdraw_15d_Cocaine\"\n",
    ")\n",
    "\n",
    "bhattacherjee_adata_15, bhattacherjee_results_15 = pt.tl.augurpy.evaluate.predict(\n",
    "    bhattacherjee_15, n_threads=1, classifier=random_forest, random_state=None\n",
    ")\n",
    "\n",
    "print(bhattacherjee_results_15[\"summary_metrics\"].loc[\"mean_augur_score\"].sort_values(ascending=False))"
   ]
  },
  {
   "cell_type": "code",
   "execution_count": 13,
   "metadata": {
    "scrolled": false
   },
   "outputs": [
    {
     "data": {
      "application/vnd.jupyter.widget-view+json": {
       "model_id": "1eee29d4fdb84d6b9472552e77f0df0d",
       "version_major": 2,
       "version_minor": 0
      },
      "text/plain": [
       "Output()"
      ]
     },
     "metadata": {},
     "output_type": "display_data"
    },
    {
     "data": {
      "text/html": [
       "<pre style=\"white-space:pre;overflow-x:auto;line-height:normal;font-family:Menlo,'DejaVu Sans Mono',consolas,'Courier New',monospace\"><span style=\"color: #808000; text-decoration-color: #808000; font-weight: bold\">Data not normalized. Normalizing now using scanpy log1p normalize.</span>\n",
       "</pre>\n"
      ],
      "text/plain": [
       "\u001b[1;33mData not normalized. Normalizing now using scanpy log1p normalize.\u001b[0m\n"
      ]
     },
     "metadata": {},
     "output_type": "display_data"
    },
    {
     "data": {
      "text/html": [
       "<pre style=\"white-space:pre;overflow-x:auto;line-height:normal;font-family:Menlo,'DejaVu Sans Mono',consolas,'Courier New',monospace\"><span style=\"color: #808000; text-decoration-color: #808000; font-weight: bold\">Data not normalized. Normalizing now using scanpy log1p normalize.</span>\n",
       "</pre>\n"
      ],
      "text/plain": [
       "\u001b[1;33mData not normalized. Normalizing now using scanpy log1p normalize.\u001b[0m\n"
      ]
     },
     "metadata": {},
     "output_type": "display_data"
    },
    {
     "data": {
      "text/html": [
       "<pre style=\"white-space:pre;overflow-x:auto;line-height:normal;font-family:Menlo,'DejaVu Sans Mono',consolas,'Courier New',monospace\"><span style=\"color: #808000; text-decoration-color: #808000; font-weight: bold\">Data not normalized. Normalizing now using scanpy log1p normalize.</span>\n",
       "</pre>\n"
      ],
      "text/plain": [
       "\u001b[1;33mData not normalized. Normalizing now using scanpy log1p normalize.\u001b[0m\n"
      ]
     },
     "metadata": {},
     "output_type": "display_data"
    },
    {
     "data": {
      "text/html": [
       "<pre style=\"white-space:pre;overflow-x:auto;line-height:normal;font-family:Menlo,'DejaVu Sans Mono',consolas,'Courier New',monospace\"><span style=\"color: #808000; text-decoration-color: #808000; font-weight: bold\">Data not normalized. Normalizing now using scanpy log1p normalize.</span>\n",
       "</pre>\n"
      ],
      "text/plain": [
       "\u001b[1;33mData not normalized. Normalizing now using scanpy log1p normalize.\u001b[0m\n"
      ]
     },
     "metadata": {},
     "output_type": "display_data"
    },
    {
     "data": {
      "text/html": [
       "<pre style=\"white-space:pre;overflow-x:auto;line-height:normal;font-family:Menlo,'DejaVu Sans Mono',consolas,'Courier New',monospace\"><span style=\"color: #808000; text-decoration-color: #808000; font-weight: bold\">Data not normalized. Normalizing now using scanpy log1p normalize.</span>\n",
       "</pre>\n"
      ],
      "text/plain": [
       "\u001b[1;33mData not normalized. Normalizing now using scanpy log1p normalize.\u001b[0m\n"
      ]
     },
     "metadata": {},
     "output_type": "display_data"
    },
    {
     "data": {
      "text/html": [
       "<pre style=\"white-space:pre;overflow-x:auto;line-height:normal;font-family:Menlo,'DejaVu Sans Mono',consolas,'Courier New',monospace\"><span style=\"color: #808000; text-decoration-color: #808000; font-weight: bold\">Data not normalized. Normalizing now using scanpy log1p normalize.</span>\n",
       "</pre>\n"
      ],
      "text/plain": [
       "\u001b[1;33mData not normalized. Normalizing now using scanpy log1p normalize.\u001b[0m\n"
      ]
     },
     "metadata": {},
     "output_type": "display_data"
    },
    {
     "data": {
      "text/html": [
       "<pre style=\"white-space:pre;overflow-x:auto;line-height:normal;font-family:Menlo,'DejaVu Sans Mono',consolas,'Courier New',monospace\"><span style=\"color: #808000; text-decoration-color: #808000; font-weight: bold\">Data not normalized. Normalizing now using scanpy log1p normalize.</span>\n",
       "</pre>\n"
      ],
      "text/plain": [
       "\u001b[1;33mData not normalized. Normalizing now using scanpy log1p normalize.\u001b[0m\n"
      ]
     },
     "metadata": {},
     "output_type": "display_data"
    },
    {
     "data": {
      "text/html": [
       "<pre style=\"white-space:pre;overflow-x:auto;line-height:normal;font-family:Menlo,'DejaVu Sans Mono',consolas,'Courier New',monospace\"><span style=\"color: #808000; text-decoration-color: #808000; font-weight: bold\">Data not normalized. Normalizing now using scanpy log1p normalize.</span>\n",
       "</pre>\n"
      ],
      "text/plain": [
       "\u001b[1;33mData not normalized. Normalizing now using scanpy log1p normalize.\u001b[0m\n"
      ]
     },
     "metadata": {},
     "output_type": "display_data"
    },
    {
     "data": {
      "text/html": [
       "<pre style=\"white-space:pre;overflow-x:auto;line-height:normal;font-family:Menlo,'DejaVu Sans Mono',consolas,'Courier New',monospace\"></pre>\n"
      ],
      "text/plain": []
     },
     "metadata": {},
     "output_type": "display_data"
    },
    {
     "data": {
      "text/html": [
       "<pre style=\"white-space:pre;overflow-x:auto;line-height:normal;font-family:Menlo,'DejaVu Sans Mono',consolas,'Courier New',monospace\">\n",
       "</pre>\n"
      ],
      "text/plain": [
       "\n"
      ]
     },
     "metadata": {},
     "output_type": "display_data"
    }
   ],
   "source": [
    "# permute\n",
    "bhattacherjee_adata_15_permute, bhattacherjee_results_15_permute = pt.tl.augurpy.evaluate.predict(\n",
    "    bhattacherjee_15, n_threads=4, augur_mode=\"permute\", classifier=random_forest, n_subsamples=100, random_state=None\n",
    ")"
   ]
  },
  {
   "cell_type": "markdown",
   "metadata": {},
   "source": [
    "Now lets do the same looking at `Maintenance_Cocaine` and `withdraw_48h_Cocaine`."
   ]
  },
  {
   "cell_type": "code",
   "execution_count": 14,
   "metadata": {},
   "outputs": [
    {
     "data": {
      "text/html": [
       "<pre style=\"white-space:pre;overflow-x:auto;line-height:normal;font-family:Menlo,'DejaVu Sans Mono',consolas,'Courier New',monospace\">Filtering samples with Maintenance_Cocaine and withdraw_48h_Cocaine labels.\n",
       "</pre>\n"
      ],
      "text/plain": [
       "Filtering samples with Maintenance_Cocaine and withdraw_48h_Cocaine labels.\n"
      ]
     },
     "metadata": {},
     "output_type": "display_data"
    },
    {
     "data": {
      "application/vnd.jupyter.widget-view+json": {
       "model_id": "5a8c467ad0654d91a9965dd17475c797",
       "version_major": 2,
       "version_minor": 0
      },
      "text/plain": [
       "Output()"
      ]
     },
     "metadata": {},
     "output_type": "display_data"
    },
    {
     "data": {
      "text/html": [
       "<pre style=\"white-space:pre;overflow-x:auto;line-height:normal;font-family:Menlo,'DejaVu Sans Mono',consolas,'Courier New',monospace\"><span style=\"color: #808000; text-decoration-color: #808000; font-weight: bold\">Data not normalized. Normalizing now using scanpy log1p normalize.</span>\n",
       "</pre>\n"
      ],
      "text/plain": [
       "\u001b[1;33mData not normalized. Normalizing now using scanpy log1p normalize.\u001b[0m\n"
      ]
     },
     "metadata": {},
     "output_type": "display_data"
    },
    {
     "data": {
      "text/html": [
       "<pre style=\"white-space:pre;overflow-x:auto;line-height:normal;font-family:Menlo,'DejaVu Sans Mono',consolas,'Courier New',monospace\"><span style=\"color: #808000; text-decoration-color: #808000; font-weight: bold\">Data not normalized. Normalizing now using scanpy log1p normalize.</span>\n",
       "</pre>\n"
      ],
      "text/plain": [
       "\u001b[1;33mData not normalized. Normalizing now using scanpy log1p normalize.\u001b[0m\n"
      ]
     },
     "metadata": {},
     "output_type": "display_data"
    },
    {
     "data": {
      "text/html": [
       "<pre style=\"white-space:pre;overflow-x:auto;line-height:normal;font-family:Menlo,'DejaVu Sans Mono',consolas,'Courier New',monospace\"><span style=\"color: #808000; text-decoration-color: #808000; font-weight: bold\">Data not normalized. Normalizing now using scanpy log1p normalize.</span>\n",
       "</pre>\n"
      ],
      "text/plain": [
       "\u001b[1;33mData not normalized. Normalizing now using scanpy log1p normalize.\u001b[0m\n"
      ]
     },
     "metadata": {},
     "output_type": "display_data"
    },
    {
     "data": {
      "text/html": [
       "<pre style=\"white-space:pre;overflow-x:auto;line-height:normal;font-family:Menlo,'DejaVu Sans Mono',consolas,'Courier New',monospace\"><span style=\"color: #808000; text-decoration-color: #808000; font-weight: bold\">Data not normalized. Normalizing now using scanpy log1p normalize.</span>\n",
       "</pre>\n"
      ],
      "text/plain": [
       "\u001b[1;33mData not normalized. Normalizing now using scanpy log1p normalize.\u001b[0m\n"
      ]
     },
     "metadata": {},
     "output_type": "display_data"
    },
    {
     "data": {
      "text/html": [
       "<pre style=\"white-space:pre;overflow-x:auto;line-height:normal;font-family:Menlo,'DejaVu Sans Mono',consolas,'Courier New',monospace\"><span style=\"color: #808000; text-decoration-color: #808000; font-weight: bold\">Data not normalized. Normalizing now using scanpy log1p normalize.</span>\n",
       "</pre>\n"
      ],
      "text/plain": [
       "\u001b[1;33mData not normalized. Normalizing now using scanpy log1p normalize.\u001b[0m\n"
      ]
     },
     "metadata": {},
     "output_type": "display_data"
    },
    {
     "data": {
      "text/html": [
       "<pre style=\"white-space:pre;overflow-x:auto;line-height:normal;font-family:Menlo,'DejaVu Sans Mono',consolas,'Courier New',monospace\"><span style=\"color: #808000; text-decoration-color: #808000; font-weight: bold\">Data not normalized. Normalizing now using scanpy log1p normalize.</span>\n",
       "</pre>\n"
      ],
      "text/plain": [
       "\u001b[1;33mData not normalized. Normalizing now using scanpy log1p normalize.\u001b[0m\n"
      ]
     },
     "metadata": {},
     "output_type": "display_data"
    },
    {
     "data": {
      "text/html": [
       "<pre style=\"white-space:pre;overflow-x:auto;line-height:normal;font-family:Menlo,'DejaVu Sans Mono',consolas,'Courier New',monospace\"><span style=\"color: #808000; text-decoration-color: #808000; font-weight: bold\">Data not normalized. Normalizing now using scanpy log1p normalize.</span>\n",
       "</pre>\n"
      ],
      "text/plain": [
       "\u001b[1;33mData not normalized. Normalizing now using scanpy log1p normalize.\u001b[0m\n"
      ]
     },
     "metadata": {},
     "output_type": "display_data"
    },
    {
     "data": {
      "text/html": [
       "<pre style=\"white-space:pre;overflow-x:auto;line-height:normal;font-family:Menlo,'DejaVu Sans Mono',consolas,'Courier New',monospace\"><span style=\"color: #808000; text-decoration-color: #808000; font-weight: bold\">Data not normalized. Normalizing now using scanpy log1p normalize.</span>\n",
       "</pre>\n"
      ],
      "text/plain": [
       "\u001b[1;33mData not normalized. Normalizing now using scanpy log1p normalize.\u001b[0m\n"
      ]
     },
     "metadata": {},
     "output_type": "display_data"
    },
    {
     "data": {
      "text/html": [
       "<pre style=\"white-space:pre;overflow-x:auto;line-height:normal;font-family:Menlo,'DejaVu Sans Mono',consolas,'Courier New',monospace\"></pre>\n"
      ],
      "text/plain": []
     },
     "metadata": {},
     "output_type": "display_data"
    },
    {
     "data": {
      "text/html": [
       "<pre style=\"white-space:pre;overflow-x:auto;line-height:normal;font-family:Menlo,'DejaVu Sans Mono',consolas,'Courier New',monospace\">\n",
       "</pre>\n"
      ],
      "text/plain": [
       "\n"
      ]
     },
     "metadata": {},
     "output_type": "display_data"
    },
    {
     "name": "stdout",
     "output_type": "stream",
     "text": [
      "Inhibitory    0.675272\n",
      "Astro         0.664728\n",
      "OPC           0.628141\n",
      "Microglia     0.614116\n",
      "Endo          0.603107\n",
      "Oligo         0.589728\n",
      "NF Oligo      0.587596\n",
      "Excitatory    0.559229\n",
      "Name: mean_augur_score, dtype: float64\n"
     ]
    }
   ],
   "source": [
    "# default\n",
    "bhattacherjee_48 = pt.tl.augurpy.read_load.load(\n",
    "    bhattacherjee_adata, condition_label=\"Maintenance_Cocaine\", treatment_label=\"withdraw_48h_Cocaine\"\n",
    ")\n",
    "\n",
    "bhattacherjee_adata_48, bhattacherjee_results_48 = pt.tl.augurpy.evaluate.predict(\n",
    "    bhattacherjee_48, n_threads=1, classifier=random_forest, random_state=None\n",
    ")\n",
    "\n",
    "print(bhattacherjee_results_48[\"summary_metrics\"].loc[\"mean_augur_score\"].sort_values(ascending=False))"
   ]
  },
  {
   "cell_type": "code",
   "execution_count": 15,
   "metadata": {
    "scrolled": false
   },
   "outputs": [
    {
     "data": {
      "application/vnd.jupyter.widget-view+json": {
       "model_id": "0090c8f376d642d89ccc9b0ca7dd7796",
       "version_major": 2,
       "version_minor": 0
      },
      "text/plain": [
       "Output()"
      ]
     },
     "metadata": {},
     "output_type": "display_data"
    },
    {
     "data": {
      "text/html": [
       "<pre style=\"white-space:pre;overflow-x:auto;line-height:normal;font-family:Menlo,'DejaVu Sans Mono',consolas,'Courier New',monospace\"><span style=\"color: #808000; text-decoration-color: #808000; font-weight: bold\">Data not normalized. Normalizing now using scanpy log1p normalize.</span>\n",
       "</pre>\n"
      ],
      "text/plain": [
       "\u001b[1;33mData not normalized. Normalizing now using scanpy log1p normalize.\u001b[0m\n"
      ]
     },
     "metadata": {},
     "output_type": "display_data"
    },
    {
     "data": {
      "text/html": [
       "<pre style=\"white-space:pre;overflow-x:auto;line-height:normal;font-family:Menlo,'DejaVu Sans Mono',consolas,'Courier New',monospace\"><span style=\"color: #808000; text-decoration-color: #808000; font-weight: bold\">Data not normalized. Normalizing now using scanpy log1p normalize.</span>\n",
       "</pre>\n"
      ],
      "text/plain": [
       "\u001b[1;33mData not normalized. Normalizing now using scanpy log1p normalize.\u001b[0m\n"
      ]
     },
     "metadata": {},
     "output_type": "display_data"
    },
    {
     "data": {
      "text/html": [
       "<pre style=\"white-space:pre;overflow-x:auto;line-height:normal;font-family:Menlo,'DejaVu Sans Mono',consolas,'Courier New',monospace\"><span style=\"color: #808000; text-decoration-color: #808000; font-weight: bold\">Data not normalized. Normalizing now using scanpy log1p normalize.</span>\n",
       "</pre>\n"
      ],
      "text/plain": [
       "\u001b[1;33mData not normalized. Normalizing now using scanpy log1p normalize.\u001b[0m\n"
      ]
     },
     "metadata": {},
     "output_type": "display_data"
    },
    {
     "data": {
      "text/html": [
       "<pre style=\"white-space:pre;overflow-x:auto;line-height:normal;font-family:Menlo,'DejaVu Sans Mono',consolas,'Courier New',monospace\"><span style=\"color: #808000; text-decoration-color: #808000; font-weight: bold\">Data not normalized. Normalizing now using scanpy log1p normalize.</span>\n",
       "</pre>\n"
      ],
      "text/plain": [
       "\u001b[1;33mData not normalized. Normalizing now using scanpy log1p normalize.\u001b[0m\n"
      ]
     },
     "metadata": {},
     "output_type": "display_data"
    },
    {
     "data": {
      "text/html": [
       "<pre style=\"white-space:pre;overflow-x:auto;line-height:normal;font-family:Menlo,'DejaVu Sans Mono',consolas,'Courier New',monospace\"><span style=\"color: #808000; text-decoration-color: #808000; font-weight: bold\">Data not normalized. Normalizing now using scanpy log1p normalize.</span>\n",
       "</pre>\n"
      ],
      "text/plain": [
       "\u001b[1;33mData not normalized. Normalizing now using scanpy log1p normalize.\u001b[0m\n"
      ]
     },
     "metadata": {},
     "output_type": "display_data"
    },
    {
     "data": {
      "text/html": [
       "<pre style=\"white-space:pre;overflow-x:auto;line-height:normal;font-family:Menlo,'DejaVu Sans Mono',consolas,'Courier New',monospace\"><span style=\"color: #808000; text-decoration-color: #808000; font-weight: bold\">Data not normalized. Normalizing now using scanpy log1p normalize.</span>\n",
       "</pre>\n"
      ],
      "text/plain": [
       "\u001b[1;33mData not normalized. Normalizing now using scanpy log1p normalize.\u001b[0m\n"
      ]
     },
     "metadata": {},
     "output_type": "display_data"
    },
    {
     "data": {
      "text/html": [
       "<pre style=\"white-space:pre;overflow-x:auto;line-height:normal;font-family:Menlo,'DejaVu Sans Mono',consolas,'Courier New',monospace\"><span style=\"color: #808000; text-decoration-color: #808000; font-weight: bold\">Data not normalized. Normalizing now using scanpy log1p normalize.</span>\n",
       "</pre>\n"
      ],
      "text/plain": [
       "\u001b[1;33mData not normalized. Normalizing now using scanpy log1p normalize.\u001b[0m\n"
      ]
     },
     "metadata": {},
     "output_type": "display_data"
    },
    {
     "data": {
      "text/html": [
       "<pre style=\"white-space:pre;overflow-x:auto;line-height:normal;font-family:Menlo,'DejaVu Sans Mono',consolas,'Courier New',monospace\"><span style=\"color: #808000; text-decoration-color: #808000; font-weight: bold\">Data not normalized. Normalizing now using scanpy log1p normalize.</span>\n",
       "</pre>\n"
      ],
      "text/plain": [
       "\u001b[1;33mData not normalized. Normalizing now using scanpy log1p normalize.\u001b[0m\n"
      ]
     },
     "metadata": {},
     "output_type": "display_data"
    },
    {
     "data": {
      "text/html": [
       "<pre style=\"white-space:pre;overflow-x:auto;line-height:normal;font-family:Menlo,'DejaVu Sans Mono',consolas,'Courier New',monospace\"><span style=\"color: #800000; text-decoration-color: #800000; font-weight: bold\">Skipping NF Oligo cell type - </span><span style=\"color: #800000; text-decoration-color: #800000; font-weight: bold\">79</span><span style=\"color: #800000; text-decoration-color: #800000; font-weight: bold\"> samples is less than min_cells </span><span style=\"color: #800000; text-decoration-color: #800000; font-weight: bold\">100</span><span style=\"color: #800000; text-decoration-color: #800000; font-weight: bold\">.</span>\n",
       "</pre>\n"
      ],
      "text/plain": [
       "\u001b[1;31mSkipping NF Oligo cell type - \u001b[0m\u001b[1;31m79\u001b[0m\u001b[1;31m samples is less than min_cells \u001b[0m\u001b[1;31m100\u001b[0m\u001b[1;31m.\u001b[0m\n"
      ]
     },
     "metadata": {},
     "output_type": "display_data"
    },
    {
     "data": {
      "text/html": [
       "<pre style=\"white-space:pre;overflow-x:auto;line-height:normal;font-family:Menlo,'DejaVu Sans Mono',consolas,'Courier New',monospace\"></pre>\n"
      ],
      "text/plain": []
     },
     "metadata": {},
     "output_type": "display_data"
    },
    {
     "data": {
      "text/html": [
       "<pre style=\"white-space:pre;overflow-x:auto;line-height:normal;font-family:Menlo,'DejaVu Sans Mono',consolas,'Courier New',monospace\">\n",
       "</pre>\n"
      ],
      "text/plain": [
       "\n"
      ]
     },
     "metadata": {},
     "output_type": "display_data"
    }
   ],
   "source": [
    "# permute\n",
    "bhattacherjee_adata_48_permute, bhattacherjee_results_48_permute = pt.tl.augurpy.evaluate.predict(\n",
    "    bhattacherjee_48, n_threads=4, augur_mode=\"permute\", classifier=random_forest, n_subsamples=100, random_state=None\n",
    ")"
   ]
  },
  {
   "cell_type": "markdown",
   "metadata": {},
   "source": [
    "Lets also take a look at the augur scores of the two versions in a scatterplot. The diagonal line is the identity function. If the values were the same they would be on the line. "
   ]
  },
  {
   "cell_type": "code",
   "execution_count": 16,
   "metadata": {
    "scrolled": false
   },
   "outputs": [
    {
     "data": {
      "image/png": "[encoded data removed]",
      "text/plain": [
       "<Figure size 432x288 with 1 Axes>"
      ]
     },
     "metadata": {
      "needs_background": "light"
     },
     "output_type": "display_data"
    }
   ],
   "source": [
    "scatter = pt.pl.augurpy.scatterplot.scatterplot(bhattacherjee_results_15, bhattacherjee_results_48)"
   ]
  },
  {
   "cell_type": "markdown",
   "metadata": {},
   "source": [
    "To figure out which cell type was most affected in comparing `withdraw_48h_Cocaine` and `withdraw_15d_Cocaine` we can run differential prioritization."
   ]
  },
  {
   "cell_type": "code",
   "execution_count": 17,
   "metadata": {
    "scrolled": true
   },
   "outputs": [],
   "source": [
    "pvals = pt.tl.augurpy.differential_prioritization.predict_differential_prioritization(\n",
    "    augur_results1=bhattacherjee_results_15,\n",
    "    augur_results2=bhattacherjee_results_48,\n",
    "    permuted_results1=bhattacherjee_results_15_permute,\n",
    "    permuted_results2=bhattacherjee_results_48_permute,\n",
    ")"
   ]
  },
  {
   "cell_type": "code",
   "execution_count": 18,
   "metadata": {
    "scrolled": false
   },
   "outputs": [
    {
     "data": {
      "text/html": [
       "<div>\n",
       "<style scoped>\n",
       "    .dataframe tbody tr th:only-of-type {\n",
       "        vertical-align: middle;\n",
       "    }\n",
       "\n",
       "    .dataframe tbody tr th {\n",
       "        vertical-align: top;\n",
       "    }\n",
       "\n",
       "    .dataframe thead th {\n",
       "        text-align: right;\n",
       "    }\n",
       "</style>\n",
       "<table border=\"1\" class=\"dataframe\">\n",
       "  <thead>\n",
       "    <tr style=\"text-align: right;\">\n",
       "      <th></th>\n",
       "      <th>cell_type</th>\n",
       "      <th>mean_augur_score1</th>\n",
       "      <th>mean_augur_score2</th>\n",
       "      <th>delta_augur</th>\n",
       "      <th>b</th>\n",
       "      <th>m</th>\n",
       "      <th>z</th>\n",
       "      <th>pval</th>\n",
       "      <th>padj</th>\n",
       "    </tr>\n",
       "  </thead>\n",
       "  <tbody>\n",
       "    <tr>\n",
       "      <th>0</th>\n",
       "      <td>Microglia</td>\n",
       "      <td>0.907279</td>\n",
       "      <td>0.614116</td>\n",
       "      <td>-0.293163</td>\n",
       "      <td>1000</td>\n",
       "      <td>1000</td>\n",
       "      <td>-20.458239</td>\n",
       "      <td>0.001998</td>\n",
       "      <td>0.002331</td>\n",
       "    </tr>\n",
       "    <tr>\n",
       "      <th>1</th>\n",
       "      <td>Inhibitory</td>\n",
       "      <td>0.660023</td>\n",
       "      <td>0.675272</td>\n",
       "      <td>0.015249</td>\n",
       "      <td>1000</td>\n",
       "      <td>1000</td>\n",
       "      <td>2.645889</td>\n",
       "      <td>0.001998</td>\n",
       "      <td>0.002331</td>\n",
       "    </tr>\n",
       "    <tr>\n",
       "      <th>2</th>\n",
       "      <td>OPC</td>\n",
       "      <td>0.900397</td>\n",
       "      <td>0.628141</td>\n",
       "      <td>-0.272256</td>\n",
       "      <td>1000</td>\n",
       "      <td>1000</td>\n",
       "      <td>-17.833696</td>\n",
       "      <td>0.001998</td>\n",
       "      <td>0.002331</td>\n",
       "    </tr>\n",
       "    <tr>\n",
       "      <th>3</th>\n",
       "      <td>Oligo</td>\n",
       "      <td>0.916088</td>\n",
       "      <td>0.589728</td>\n",
       "      <td>-0.326361</td>\n",
       "      <td>788</td>\n",
       "      <td>1000</td>\n",
       "      <td>-21.920250</td>\n",
       "      <td>0.425574</td>\n",
       "      <td>0.425574</td>\n",
       "    </tr>\n",
       "    <tr>\n",
       "      <th>4</th>\n",
       "      <td>Astro</td>\n",
       "      <td>0.912823</td>\n",
       "      <td>0.664728</td>\n",
       "      <td>-0.248095</td>\n",
       "      <td>1000</td>\n",
       "      <td>1000</td>\n",
       "      <td>-15.231971</td>\n",
       "      <td>0.001998</td>\n",
       "      <td>0.002331</td>\n",
       "    </tr>\n",
       "    <tr>\n",
       "      <th>5</th>\n",
       "      <td>Excitatory</td>\n",
       "      <td>0.688617</td>\n",
       "      <td>0.559229</td>\n",
       "      <td>-0.129388</td>\n",
       "      <td>1000</td>\n",
       "      <td>1000</td>\n",
       "      <td>-9.034865</td>\n",
       "      <td>0.001998</td>\n",
       "      <td>0.002331</td>\n",
       "    </tr>\n",
       "    <tr>\n",
       "      <th>6</th>\n",
       "      <td>Endo</td>\n",
       "      <td>0.780590</td>\n",
       "      <td>0.603107</td>\n",
       "      <td>-0.177483</td>\n",
       "      <td>1000</td>\n",
       "      <td>1000</td>\n",
       "      <td>-10.232838</td>\n",
       "      <td>0.001998</td>\n",
       "      <td>0.002331</td>\n",
       "    </tr>\n",
       "  </tbody>\n",
       "</table>\n",
       "</div>"
      ],
      "text/plain": [
       "    cell_type  mean_augur_score1  mean_augur_score2  delta_augur     b     m  \\\n",
       "0   Microglia           0.907279           0.614116    -0.293163  1000  1000   \n",
       "1  Inhibitory           0.660023           0.675272     0.015249  1000  1000   \n",
       "2         OPC           0.900397           0.628141    -0.272256  1000  1000   \n",
       "3       Oligo           0.916088           0.589728    -0.326361   788  1000   \n",
       "4       Astro           0.912823           0.664728    -0.248095  1000  1000   \n",
       "5  Excitatory           0.688617           0.559229    -0.129388  1000  1000   \n",
       "6        Endo           0.780590           0.603107    -0.177483  1000  1000   \n",
       "\n",
       "           z      pval      padj  \n",
       "0 -20.458239  0.001998  0.002331  \n",
       "1   2.645889  0.001998  0.002331  \n",
       "2 -17.833696  0.001998  0.002331  \n",
       "3 -21.920250  0.425574  0.425574  \n",
       "4 -15.231971  0.001998  0.002331  \n",
       "5  -9.034865  0.001998  0.002331  \n",
       "6 -10.232838  0.001998  0.002331  "
      ]
     },
     "execution_count": 18,
     "metadata": {},
     "output_type": "execute_result"
    }
   ],
   "source": [
    "pvals"
   ]
  },
  {
   "cell_type": "markdown",
   "metadata": {},
   "source": [
    "The p-value, following the R Augur implementation is calculated using b, the number of times permuted values are larger than original values and m, the number of permutations run. Since b is the same for all cells but OPC, the p-value is the same for these as well."
   ]
  },
  {
   "cell_type": "code",
   "execution_count": 19,
   "metadata": {},
   "outputs": [
    {
     "data": {
      "image/png": "[encoded data removed]",
      "text/plain": [
       "<Figure size 432x288 with 1 Axes>"
      ]
     },
     "metadata": {
      "needs_background": "light"
     },
     "output_type": "display_data"
    }
   ],
   "source": [
    "diff = pt.pl.augurpy.differential_prioritization.dp_scatter(pvals)"
   ]
  },
  {
   "cell_type": "markdown",
   "metadata": {},
   "source": [
    "In this case the cell type Microglia has the lowest p-value, meaning that in comparing the impact of `withdraw_48h_Cocaine` and `withdraw_15d_Cocaine`, this cell type was most perturbed. "
   ]
  }
 ],
 "metadata": {
  "interpreter": {
   "hash": "a24c21ce9f55a051e125ae55b4380093d8f4a9785cb7fd33812a3a228a0c8b4c"
  },
  "kernelspec": {
   "display_name": "Python 3 (ipykernel)",
   "language": "python",
   "name": "python3"
  },
  "language_info": {
   "codemirror_mode": {
    "name": "ipython",
    "version": 3
   },
   "file_extension": ".py",
   "mimetype": "text/x-python",
   "name": "python",
   "nbconvert_exporter": "python",
   "pygments_lexer": "ipython3",
   "version": "3.8.12"
  }
 },
 "nbformat": 4,
 "nbformat_minor": 2
}
