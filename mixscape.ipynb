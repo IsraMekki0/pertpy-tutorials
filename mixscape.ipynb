{
 "cells": [
  {
   "cell_type": "markdown",
   "metadata": {
    "tags": []
   },
   "source": [
    "# Mixscape reproduction"
   ]
  },
  {
   "cell_type": "markdown",
   "metadata": {},
   "source": [
    "This vignette reproduces the Mixscape https://satijalab.org/seurat/articles/mixscape_vignette.html Vignette.\n",
    "We demonstrate that pertpy can reproduce the results and go beyond Mixscape."
   ]
  },
  {
   "cell_type": "code",
   "execution_count": 1,
   "metadata": {},
   "outputs": [
    {
     "data": {
      "text/html": [
       "<pre style=\"white-space:pre;overflow-x:auto;line-height:normal;font-family:Menlo,'DejaVu Sans Mono',consolas,'Courier New',monospace\"><span style=\"color: #800000; text-decoration-color: #800000; font-weight: bold\">Unable to contact PyPI to check for the latest pertpy version. Do you have an internet </span>\n",
       "<span style=\"color: #800000; text-decoration-color: #800000; font-weight: bold\">connection?</span>\n",
       "</pre>\n"
      ],
      "text/plain": [
       "\u001b[1;31mUnable to contact PyPI to check for the latest pertpy version. Do you have an internet \u001b[0m\n",
       "\u001b[1;31mconnection?\u001b[0m\n"
      ]
     },
     "metadata": {},
     "output_type": "display_data"
    }
   ],
   "source": [
    "import pertpy as py\n",
    "import muon as mu\n",
    "import scanpy as sc"
   ]
  },
  {
   "cell_type": "markdown",
   "metadata": {
    "tags": []
   },
   "source": [
    "# Getting the dataset"
   ]
  },
  {
   "cell_type": "code",
   "execution_count": 2,
   "metadata": {},
   "outputs": [
    {
     "name": "stderr",
     "output_type": "stream",
     "text": [
      "/home/zeth/miniconda3/envs/pertpy/lib/python3.8/site-packages/mudata/_core/mudata.py:376: UserWarning: Cannot join columns with the same name because var_names are intersecting.\n",
      "  warnings.warn(\n"
     ]
    }
   ],
   "source": [
    "mdata = py.dt.burczynski_crispr()"
   ]
  },
  {
   "cell_type": "code",
   "execution_count": 3,
   "metadata": {},
   "outputs": [
    {
     "data": {
      "text/html": [
       "<pre>MuData object with n_obs × n_vars = 20729 × 18776\n",
       "  4 modalities\n",
       "    adt:\t20729 x 4\n",
       "      obs:\t&#x27;orig.ident&#x27;, &#x27;nCount_RNA&#x27;, &#x27;nFeature_RNA&#x27;, &#x27;nCount_HTO&#x27;, &#x27;nFeature_HTO&#x27;, &#x27;nCount_GDO&#x27;, &#x27;nCount_ADT&#x27;, &#x27;nFeature_ADT&#x27;, &#x27;percent.mito&#x27;, &#x27;MULTI_ID&#x27;, &#x27;HTO_classification&#x27;, &#x27;guide_ID&#x27;, &#x27;gene_target&#x27;, &#x27;perturbation&#x27;, &#x27;replicate&#x27;, &#x27;S.Score&#x27;, &#x27;G2M.Score&#x27;, &#x27;Phase&#x27;\n",
       "      var:\t&#x27;name&#x27;\n",
       "    gdo:\t20729 x 111\n",
       "      obs:\t&#x27;orig.ident&#x27;, &#x27;nCount_RNA&#x27;, &#x27;nFeature_RNA&#x27;, &#x27;nCount_HTO&#x27;, &#x27;nFeature_HTO&#x27;, &#x27;nCount_GDO&#x27;, &#x27;nCount_ADT&#x27;, &#x27;nFeature_ADT&#x27;, &#x27;percent.mito&#x27;, &#x27;MULTI_ID&#x27;, &#x27;HTO_classification&#x27;, &#x27;guide_ID&#x27;, &#x27;gene_target&#x27;, &#x27;perturbation&#x27;, &#x27;replicate&#x27;, &#x27;S.Score&#x27;, &#x27;G2M.Score&#x27;, &#x27;Phase&#x27;\n",
       "      var:\t&#x27;name&#x27;\n",
       "    hto:\t20729 x 12\n",
       "      obs:\t&#x27;orig.ident&#x27;, &#x27;nCount_RNA&#x27;, &#x27;nFeature_RNA&#x27;, &#x27;nCount_HTO&#x27;, &#x27;nFeature_HTO&#x27;, &#x27;nCount_GDO&#x27;, &#x27;nCount_ADT&#x27;, &#x27;nFeature_ADT&#x27;, &#x27;percent.mito&#x27;, &#x27;MULTI_ID&#x27;, &#x27;HTO_classification&#x27;, &#x27;guide_ID&#x27;, &#x27;gene_target&#x27;, &#x27;perturbation&#x27;, &#x27;replicate&#x27;, &#x27;S.Score&#x27;, &#x27;G2M.Score&#x27;, &#x27;Phase&#x27;\n",
       "      var:\t&#x27;name&#x27;\n",
       "    rna:\t20729 x 18649\n",
       "      obs:\t&#x27;orig.ident&#x27;, &#x27;nCount_RNA&#x27;, &#x27;nFeature_RNA&#x27;, &#x27;nCount_HTO&#x27;, &#x27;nFeature_HTO&#x27;, &#x27;nCount_GDO&#x27;, &#x27;nCount_ADT&#x27;, &#x27;nFeature_ADT&#x27;, &#x27;percent.mito&#x27;, &#x27;MULTI_ID&#x27;, &#x27;HTO_classification&#x27;, &#x27;guide_ID&#x27;, &#x27;gene_target&#x27;, &#x27;perturbation&#x27;, &#x27;replicate&#x27;, &#x27;S.Score&#x27;, &#x27;G2M.Score&#x27;, &#x27;Phase&#x27;\n",
       "      var:\t&#x27;name&#x27;</pre>"
      ],
      "text/plain": [
       "MuData object with n_obs × n_vars = 20729 × 18776\n",
       "  4 modalities\n",
       "    adt:\t20729 x 4\n",
       "      obs:\t'orig.ident', 'nCount_RNA', 'nFeature_RNA', 'nCount_HTO', 'nFeature_HTO', 'nCount_GDO', 'nCount_ADT', 'nFeature_ADT', 'percent.mito', 'MULTI_ID', 'HTO_classification', 'guide_ID', 'gene_target', 'perturbation', 'replicate', 'S.Score', 'G2M.Score', 'Phase'\n",
       "      var:\t'name'\n",
       "    gdo:\t20729 x 111\n",
       "      obs:\t'orig.ident', 'nCount_RNA', 'nFeature_RNA', 'nCount_HTO', 'nFeature_HTO', 'nCount_GDO', 'nCount_ADT', 'nFeature_ADT', 'percent.mito', 'MULTI_ID', 'HTO_classification', 'guide_ID', 'gene_target', 'perturbation', 'replicate', 'S.Score', 'G2M.Score', 'Phase'\n",
       "      var:\t'name'\n",
       "    hto:\t20729 x 12\n",
       "      obs:\t'orig.ident', 'nCount_RNA', 'nFeature_RNA', 'nCount_HTO', 'nFeature_HTO', 'nCount_GDO', 'nCount_ADT', 'nFeature_ADT', 'percent.mito', 'MULTI_ID', 'HTO_classification', 'guide_ID', 'gene_target', 'perturbation', 'replicate', 'S.Score', 'G2M.Score', 'Phase'\n",
       "      var:\t'name'\n",
       "    rna:\t20729 x 18649\n",
       "      obs:\t'orig.ident', 'nCount_RNA', 'nFeature_RNA', 'nCount_HTO', 'nFeature_HTO', 'nCount_GDO', 'nCount_ADT', 'nFeature_ADT', 'percent.mito', 'MULTI_ID', 'HTO_classification', 'guide_ID', 'gene_target', 'perturbation', 'replicate', 'S.Score', 'G2M.Score', 'Phase'\n",
       "      var:\t'name'"
      ]
     },
     "execution_count": 3,
     "metadata": {},
     "output_type": "execute_result"
    }
   ],
   "source": [
    "mdata"
   ]
  },
  {
   "cell_type": "markdown",
   "metadata": {},
   "source": [
    "# Preprocessing"
   ]
  },
  {
   "cell_type": "markdown",
   "metadata": {},
   "source": [
    "## RNA"
   ]
  },
  {
   "cell_type": "code",
   "execution_count": 4,
   "metadata": {},
   "outputs": [
    {
     "data": {
      "text/plain": [
       "AnnData object with n_obs × n_vars = 20729 × 18649\n",
       "    obs: 'orig.ident', 'nCount_RNA', 'nFeature_RNA', 'nCount_HTO', 'nFeature_HTO', 'nCount_GDO', 'nCount_ADT', 'nFeature_ADT', 'percent.mito', 'MULTI_ID', 'HTO_classification', 'guide_ID', 'gene_target', 'perturbation', 'replicate', 'S.Score', 'G2M.Score', 'Phase'\n",
       "    var: 'name'"
      ]
     },
     "execution_count": 4,
     "metadata": {},
     "output_type": "execute_result"
    }
   ],
   "source": [
    "mdata[\"rna\"]"
   ]
  },
  {
   "cell_type": "code",
   "execution_count": 5,
   "metadata": {},
   "outputs": [],
   "source": [
    "sc.pp.log1p(mdata[\"rna\"])"
   ]
  },
  {
   "cell_type": "code",
   "execution_count": 6,
   "metadata": {},
   "outputs": [],
   "source": [
    "sc.pp.highly_variable_genes(mdata[\"rna\"], flavor=\"seurat\")"
   ]
  },
  {
   "cell_type": "code",
   "execution_count": 7,
   "metadata": {},
   "outputs": [],
   "source": [
    "sc.pp.scale(mdata[\"rna\"])"
   ]
  },
  {
   "cell_type": "markdown",
   "metadata": {},
   "source": [
    "## Protein"
   ]
  },
  {
   "cell_type": "code",
   "execution_count": 8,
   "metadata": {},
   "outputs": [
    {
     "data": {
      "text/plain": [
       "AnnData object with n_obs × n_vars = 20729 × 4\n",
       "    obs: 'orig.ident', 'nCount_RNA', 'nFeature_RNA', 'nCount_HTO', 'nFeature_HTO', 'nCount_GDO', 'nCount_ADT', 'nFeature_ADT', 'percent.mito', 'MULTI_ID', 'HTO_classification', 'guide_ID', 'gene_target', 'perturbation', 'replicate', 'S.Score', 'G2M.Score', 'Phase'\n",
       "    var: 'name'"
      ]
     },
     "execution_count": 8,
     "metadata": {},
     "output_type": "execute_result"
    }
   ],
   "source": [
    "mdata[\"adt\"]"
   ]
  },
  {
   "cell_type": "code",
   "execution_count": 9,
   "metadata": {},
   "outputs": [],
   "source": [
    "mu.prot.pp.clr(mdata[\"adt\"])"
   ]
  },
  {
   "cell_type": "markdown",
   "metadata": {},
   "source": [
    "# RNA-based clustering is driven by confounding sources of variation"
   ]
  },
  {
   "cell_type": "code",
   "execution_count": null,
   "metadata": {},
   "outputs": [],
   "source": []
  },
  {
   "cell_type": "markdown",
   "metadata": {},
   "source": [
    "# Calculating local perturbation signatures mitigates confounding effects"
   ]
  },
  {
   "cell_type": "code",
   "execution_count": null,
   "metadata": {},
   "outputs": [],
   "source": []
  },
  {
   "cell_type": "markdown",
   "metadata": {
    "tags": []
   },
   "source": [
    "# Mixscape identifies cells with no detectable perturbation"
   ]
  },
  {
   "cell_type": "code",
   "execution_count": null,
   "metadata": {},
   "outputs": [],
   "source": []
  },
  {
   "cell_type": "markdown",
   "metadata": {},
   "source": [
    "# Inspecting mixscape results"
   ]
  },
  {
   "cell_type": "code",
   "execution_count": null,
   "metadata": {},
   "outputs": [],
   "source": []
  },
  {
   "cell_type": "markdown",
   "metadata": {},
   "source": [
    "# Visualizing perturbation responses with Linear Discriminant Analysis (LDA)"
   ]
  },
  {
   "cell_type": "code",
   "execution_count": null,
   "metadata": {},
   "outputs": [],
   "source": []
  }
 ],
 "metadata": {
  "kernelspec": {
   "display_name": "Python 3 (ipykernel)",
   "language": "python",
   "name": "python3"
  },
  "language_info": {
   "codemirror_mode": {
    "name": "ipython",
    "version": 3
   },
   "file_extension": ".py",
   "mimetype": "text/x-python",
   "name": "python",
   "nbconvert_exporter": "python",
   "pygments_lexer": "ipython3",
   "version": "3.8.10"
  }
 },
 "nbformat": 4,
 "nbformat_minor": 4
}
